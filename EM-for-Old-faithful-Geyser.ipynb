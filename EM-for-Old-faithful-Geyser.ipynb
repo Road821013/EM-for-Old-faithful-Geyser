{
 "cells": [
  {
   "cell_type": "code",
   "execution_count": 2,
   "metadata": {},
   "outputs": [],
   "source": [
    "import pandas as pd\n",
    "import numpy as np\n",
    "import matplotlib.pyplot as plt\n",
    "\n",
    "# We have to divide the Geyser data into k=2 two-dim normal distribution\n",
    "faithful=pd.read_csv(r'C:\\Users\\User\\Desktop\\NCCU\\Simulation\\faithful.csv')"
   ]
  },
  {
   "cell_type": "code",
   "execution_count": 8,
   "metadata": {},
   "outputs": [
    {
     "data": {
      "text/html": [
       "<div>\n",
       "<style scoped>\n",
       "    .dataframe tbody tr th:only-of-type {\n",
       "        vertical-align: middle;\n",
       "    }\n",
       "\n",
       "    .dataframe tbody tr th {\n",
       "        vertical-align: top;\n",
       "    }\n",
       "\n",
       "    .dataframe thead th {\n",
       "        text-align: right;\n",
       "    }\n",
       "</style>\n",
       "<table border=\"1\" class=\"dataframe\">\n",
       "  <thead>\n",
       "    <tr style=\"text-align: right;\">\n",
       "      <th></th>\n",
       "      <th>Unnamed: 0</th>\n",
       "      <th>eruptions</th>\n",
       "      <th>waiting</th>\n",
       "    </tr>\n",
       "  </thead>\n",
       "  <tbody>\n",
       "    <tr>\n",
       "      <th>0</th>\n",
       "      <td>1</td>\n",
       "      <td>3.600</td>\n",
       "      <td>79</td>\n",
       "    </tr>\n",
       "    <tr>\n",
       "      <th>1</th>\n",
       "      <td>2</td>\n",
       "      <td>1.800</td>\n",
       "      <td>54</td>\n",
       "    </tr>\n",
       "    <tr>\n",
       "      <th>2</th>\n",
       "      <td>3</td>\n",
       "      <td>3.333</td>\n",
       "      <td>74</td>\n",
       "    </tr>\n",
       "    <tr>\n",
       "      <th>3</th>\n",
       "      <td>4</td>\n",
       "      <td>2.283</td>\n",
       "      <td>62</td>\n",
       "    </tr>\n",
       "    <tr>\n",
       "      <th>4</th>\n",
       "      <td>5</td>\n",
       "      <td>4.533</td>\n",
       "      <td>85</td>\n",
       "    </tr>\n",
       "    <tr>\n",
       "      <th>5</th>\n",
       "      <td>6</td>\n",
       "      <td>2.883</td>\n",
       "      <td>55</td>\n",
       "    </tr>\n",
       "    <tr>\n",
       "      <th>6</th>\n",
       "      <td>7</td>\n",
       "      <td>4.700</td>\n",
       "      <td>88</td>\n",
       "    </tr>\n",
       "    <tr>\n",
       "      <th>7</th>\n",
       "      <td>8</td>\n",
       "      <td>3.600</td>\n",
       "      <td>85</td>\n",
       "    </tr>\n",
       "    <tr>\n",
       "      <th>8</th>\n",
       "      <td>9</td>\n",
       "      <td>1.950</td>\n",
       "      <td>51</td>\n",
       "    </tr>\n",
       "    <tr>\n",
       "      <th>9</th>\n",
       "      <td>10</td>\n",
       "      <td>4.350</td>\n",
       "      <td>85</td>\n",
       "    </tr>\n",
       "  </tbody>\n",
       "</table>\n",
       "</div>"
      ],
      "text/plain": [
       "   Unnamed: 0  eruptions  waiting\n",
       "0           1      3.600       79\n",
       "1           2      1.800       54\n",
       "2           3      3.333       74\n",
       "3           4      2.283       62\n",
       "4           5      4.533       85\n",
       "5           6      2.883       55\n",
       "6           7      4.700       88\n",
       "7           8      3.600       85\n",
       "8           9      1.950       51\n",
       "9          10      4.350       85"
      ]
     },
     "execution_count": 8,
     "metadata": {},
     "output_type": "execute_result"
    }
   ],
   "source": [
    "faithful.head(10)"
   ]
  },
  {
   "cell_type": "code",
   "execution_count": 6,
   "metadata": {},
   "outputs": [
    {
     "data": {
      "text/plain": [
       "[<matplotlib.lines.Line2D at 0x1f268874080>]"
      ]
     },
     "execution_count": 6,
     "metadata": {},
     "output_type": "execute_result"
    },
    {
     "data": {
      "image/png": "[encoded data removed]",
      "text/plain": [
       "<Figure size 432x288 with 1 Axes>"
      ]
     },
     "metadata": {
      "needs_background": "light"
     },
     "output_type": "display_data"
    }
   ],
   "source": [
    "plt.plot(faithful['eruptions'],faithful['waiting'],'bo')"
   ]
  },
  {
   "cell_type": "code",
   "execution_count": 9,
   "metadata": {},
   "outputs": [],
   "source": [
    "x=[]\n",
    "for i in range(len(faithful)):x.append((faithful['eruptions'][i],faithful['waiting'][i]))\n",
    "x=np.array(x)\n",
    "\n",
    "#use the lists z1、z2 to compute initial value\n",
    "#from the plot we guess we can divide the data into two group of \n",
    "# normal distribution by ['eruptions']=3\n",
    "z1=[]\n",
    "z2=[]\n",
    "for i in range(len(x)):\n",
    "    if x[i][0]<=3:z1.append(x[i])\n",
    "    else : z2.append(x[i])\n",
    "\n",
    "z1=np.array(z1)\n",
    "z2=np.array(z2)\n",
    "\n",
    "#define a variable of initial parameter from estimation (a1,a2,mu1,cov1,mu2,cov2)\n",
    "sita=[len(z1)/(len(z1)+len(z2)),len(z2)/(len(z1)+len(z2)),\n",
    "      np.array([np.mean(z1[:,0]),np.mean(z1[:,1])]),np.cov(z1[:,0],z1[:,1]),\n",
    "      np.array([np.mean(z2[:,0]),np.mean(z2[:,1])]),np.cov(z2[:,0],z2[:,1])]"
   ]
  },
  {
   "cell_type": "code",
   "execution_count": 10,
   "metadata": {},
   "outputs": [
    {
     "data": {
      "text/plain": [
       "[0.35661764705882354,\n",
       " 0.6433823529411765,\n",
       " array([ 2.03813402, 54.49484536]),\n",
       " array([[ 0.07121718,  0.45226632],\n",
       "        [ 0.45226632, 34.10674399]]),\n",
       " array([ 4.29130286, 79.98857143]),\n",
       " array([[ 0.16879903,  0.9180667 ],\n",
       "        [ 0.9180667 , 35.93090312]])]"
      ]
     },
     "execution_count": 10,
     "metadata": {},
     "output_type": "execute_result"
    }
   ],
   "source": [
    "sita"
   ]
  },
  {
   "cell_type": "code",
   "execution_count": 17,
   "metadata": {},
   "outputs": [],
   "source": [
    "#define a function of 2-dim normal distribution \n",
    "def BN(X,MU,COV):\n",
    "    y=np.exp(-((((X-MU).T).dot(np.linalg.inv(COV))).dot(X-MU))/2)/(2*np.pi*(np.sqrt(np.linalg.det(COV))))\n",
    "    return y\n",
    "\n",
    "#defind a function to compute label probability p(yj|xi,Sita)\n",
    "def PY(X,Sita):\n",
    "    y=[]\n",
    "    for i in range(len(X)):\n",
    "        y.append([(Sita[0]*BN(X[i],Sita[2],Sita[3]))/(Sita[0]*BN(X[i],Sita[2],Sita[3])+Sita[1]*BN(X[i],Sita[4],Sita[5])),\n",
    "                  Sita[1]*BN(X[i],Sita[4],Sita[5])/(Sita[0]*BN(X[i],Sita[2],Sita[3])+Sita[1]*BN(X[i],Sita[4],Sita[5])) ])\n",
    "    y=np.array(y)\n",
    "    return y\n",
    "#define a likelihood function of mixture 2-dim normal distribution \n",
    "def Q(X,Sita):\n",
    "    y=0\n",
    "    for i in range(len(X)):\n",
    "        y+=np.log(Sita[0]*BN(X[i],Sita[2],Sita[3]))*PY(X,Sita)[i,0]+np.log(Sita[1]*BN(X[i],Sita[4],Sita[5]))*PY(X,Sita)[i,1]\n",
    "    return y\n",
    "\n",
    "\n",
    "#define a function of EM algorithm(data,initial parameter)\n",
    "def EM(X,Sita):\n",
    "    i=0\n",
    "    sita0=[0.5,0.5,np.array([1,30]),np.array([[0.07,0.5],[0.5,34.0]]),np.array([3.0,50.0]),np.array([[0.17,0.9],[0.9,35.0]])]\n",
    "    sita1=Sita.copy()\n",
    "    while Q(X,sita1)>Q(X,sita0):\n",
    "        sita0=sita1.copy()\n",
    "        sita1[0:2]=[np.mean(PY(X,sita0)[:,0]),np.mean(PY(X,sita0)[:,1])]\n",
    "        sita1[2]=(X.T).dot(PY(X,sita0)[:,0])/(np.sum(PY(X,sita0)[:,0]))\n",
    "        cov1=np.array([[0.0,0.0],[0.0,0.0]])\n",
    "        for j in range(len(X)):cov1+=(np.outer((X[j]-sita0[2]),X[j]-sita0[2]))*(PY(X,sita0)[j,0])\n",
    "        sita1[3]=cov1/(np.sum(PY(X,sita0)[:,0]))\n",
    "        sita1[4]=(X.T).dot(PY(X,sita0)[:,1])/(np.sum(PY(X,sita0)[:,1]))\n",
    "        cov2=np.array([[0.0,0.0],[0.0,0.0]])\n",
    "        for k in range(len(X)):cov2+=(np.outer((X[k]-sita0[4]),X[k]-sita0[4]))*(PY(X,sita0)[k,1])\n",
    "        sita1[5]=cov2/(np.sum(PY(X,sita0)[:,1]))\n",
    "        i+=1\n",
    "    print('(a1,a2,mu1,cov1,mu2,cov2)=',sita0,'iteration=',i)"
   ]
  },
  {
   "cell_type": "code",
   "execution_count": 4,
   "metadata": {},
   "outputs": [
    {
     "name": "stdout",
     "output_type": "stream",
     "text": [
      "(a1,a2,mu1,cov1,mu2,cov2)= [0.3560462082867129, 0.6439537917132871, array([ 2.03681388, 54.48286414]), array([[ 0.06951069,  0.43881671],\n",
      "       [ 0.43881671, 33.72337668]]), array([ 4.29003333, 79.97257302]), array([[ 0.16950149,  0.93470502],\n",
      "       [ 0.93470502, 35.98036659]])] iteration= 1\n"
     ]
    }
   ],
   "source": [
    "EM(x,sita)"
   ]
  },
  {
   "cell_type": "code",
   "execution_count": 5,
   "metadata": {
    "scrolled": true
   },
   "outputs": [
    {
     "name": "stdout",
     "output_type": "stream",
     "text": [
      "(a1,a2,mu1,cov1,mu2,cov2)= [0.35587285710570676, 0.6441271428942933, array([ 2.03638845, 54.47851638]), array([[ 0.06916767,  0.43516762],\n",
      "       [ 0.43516762, 33.69728207]]), array([ 4.28966197, 79.96811517]), array([[ 0.16996844,  0.94060932],\n",
      "       [ 0.94060932, 36.04621132]])] iteration= 31\n"
     ]
    }
   ],
   "source": [
    "#from the other initial paramater to estimate sita\n",
    "sita_2=[0.5,0.5,np.array([1,40]),np.array([[0.07,0.5],[0.5,34.0]]),np.array([3.0,60.0]),np.array([[0.17,0.9],[0.9,35.0]])]\n",
    "EM(x,sita_2)"
   ]
  },
  {
   "cell_type": "code",
   "execution_count": 15,
   "metadata": {},
   "outputs": [
    {
     "data": {
      "text/plain": [
       "[<matplotlib.lines.Line2D at 0x1f269a953c8>]"
      ]
     },
     "execution_count": 15,
     "metadata": {},
     "output_type": "execute_result"
    },
    {
     "data": {
      "image/png": "[encoded data removed]",
      "text/plain": [
       "<Figure size 432x288 with 1 Axes>"
      ]
     },
     "metadata": {
      "needs_background": "light"
     },
     "output_type": "display_data"
    }
   ],
   "source": [
    "# use the estimate to cluster the data to two different distribution\n",
    "sita_estimate=[0.35587285710570676, 0.6441271428942933, np.array([ 2.03638845, 54.47851638]), np.array([[ 0.06916767,  0.43516762],\n",
    "       [ 0.43516762, 33.69728207]]), np.array([ 4.28966197, 79.96811517]), np.array([[ 0.16996844,  0.94060932],\n",
    "       [ 0.94060932, 36.04621132]])]\n",
    "x1=[]\n",
    "x2=[]\n",
    "Py=PY(x,sita_estimate)\n",
    "for i in range(len(x)): \n",
    "    if Py[i,0]>Py[i,1]:x1.append(x[i])\n",
    "    else :x2.append(x[i])\n",
    "x1=np.array(x1)\n",
    "x2=np.array(x2)\n",
    "plt.plot(x1[:,0],x1[:,1],'ro')\n",
    "plt.plot(x2[:,0],x2[:,1],'bo')"
   ]
  },
  {
   "cell_type": "code",
   "execution_count": null,
   "metadata": {},
   "outputs": [],
   "source": []
  }
 ],
 "metadata": {
  "kernelspec": {
   "display_name": "Python 3",
   "language": "python",
   "name": "python3"
  },
  "language_info": {
   "codemirror_mode": {
    "name": "ipython",
    "version": 3
   },
   "file_extension": ".py",
   "mimetype": "text/x-python",
   "name": "python",
   "nbconvert_exporter": "python",
   "pygments_lexer": "ipython3",
   "version": "3.7.1"
  }
 },
 "nbformat": 4,
 "nbformat_minor": 2
}
